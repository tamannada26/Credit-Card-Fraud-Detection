{
 "cells": [
  {
   "cell_type": "markdown",
   "id": "3ed27258-df5f-44ce-9617-46fdecb80959",
   "metadata": {},
   "source": [
    "# ABOUT THE DATASET\n",
    "The dataset contains transactions made by credit cards by European cardholders.This dataset presents transactions that have 492 frauds out of 284,807 transactions. The dataset is highly unbalanced, the positive class (frauds) account for 0.172% of all transactions. The data has been anonymized to protect the cardholders' identities. The primary objective of this dataset is to facilitate the development of fraud detection algorithms and models to identify potentially fraudulent transactions.\n",
    "\n",
    "- **Dataset Highlights:**\n",
    "\n",
    "- **Source: Kaggle** - Credit Card Fraud Detection\n",
    "- **Number of Fraudulent Transactions:** 492 (0.172% of total transactions).\n",
    "- **Class Distribution:** Highly imbalanced, with a significant majority of non-fraudulent (Class 0) transactions.\n",
    "\n",
    "# Features:\n",
    "\n",
    "- **Time**:Number of seconds elapsed between this transaction and the first transaction in the dataset\n",
    "- **id:** Unique identifier for each transaction\n",
    "- **V1-V28:** Anonymized features representing various transaction attributes (e.g., time, location, etc.)\n",
    "- **Amount:** The transaction amount\n",
    "- **Class:** Binary label indicating whether the transaction is fraudulent (1) or not"
   ]
  },
  {
   "cell_type": "markdown",
   "id": "588856ce-48b3-4ebb-a0d1-189258940407",
   "metadata": {},
   "source": [
    "# 1. Data Loading and Initial Exploration"
   ]
  },
  {
   "cell_type": "code",
   "execution_count": 1,
   "id": "06686f9e-e29a-4063-8bdb-fe78c5b27f0c",
   "metadata": {},
   "outputs": [],
   "source": [
    "# Import necessary libraries\n",
    "from pyspark.sql import SparkSession"
   ]
  },
  {
   "cell_type": "code",
   "execution_count": 3,
   "id": "62743c62-dc4b-4a4f-b70d-20c928c2f61e",
   "metadata": {},
   "outputs": [
    {
     "data": {
      "text/html": [
       "\n",
       "            <div>\n",
       "                <p><b>SparkSession - in-memory</b></p>\n",
       "                \n",
       "        <div>\n",
       "            <p><b>SparkContext</b></p>\n",
       "\n",
       "            <p><a href=\"http://10.0.0.61:4040\">Spark UI</a></p>\n",
       "\n",
       "            <dl>\n",
       "              <dt>Version</dt>\n",
       "                <dd><code>v3.5.3</code></dd>\n",
       "              <dt>Master</dt>\n",
       "                <dd><code>local[*]</code></dd>\n",
       "              <dt>AppName</dt>\n",
       "                <dd><code>CreditCardFraudDetection</code></dd>\n",
       "            </dl>\n",
       "        </div>\n",
       "        \n",
       "            </div>\n",
       "        "
      ],
      "text/plain": [
       "<pyspark.sql.session.SparkSession at 0x236fbde7f20>"
      ]
     },
     "execution_count": 3,
     "metadata": {},
     "output_type": "execute_result"
    }
   ],
   "source": [
    "# Initialize Spark session\n",
    "spark=SparkSession.builder.master(\"local[*]\").appName(\"CreditCardFraudDetection\").getOrCreate()\n",
    "spark\n"
   ]
  },
  {
   "cell_type": "code",
   "execution_count": 5,
   "id": "47e03787-a3d7-4c12-9b3a-b64db88dd9db",
   "metadata": {},
   "outputs": [],
   "source": [
    "# Load the dataset\n",
    "file_path = r\"C:\\Users\\taman\\OD\\Desktop\\DOCUMENTS\\SPARK ASSIGNMENT-1\\creditcard.csv\"\n",
    "data = spark.read.csv(file_path, header=True, inferSchema=True)\n",
    "\n"
   ]
  },
  {
   "cell_type": "code",
   "execution_count": 7,
   "id": "592b4439-5a74-4679-a42b-4066299d3aee",
   "metadata": {},
   "outputs": [
    {
     "name": "stdout",
     "output_type": "stream",
     "text": [
      "root\n",
      " |-- Time: double (nullable = true)\n",
      " |-- V1: double (nullable = true)\n",
      " |-- V2: double (nullable = true)\n",
      " |-- V3: double (nullable = true)\n",
      " |-- V4: double (nullable = true)\n",
      " |-- V5: double (nullable = true)\n",
      " |-- V6: double (nullable = true)\n",
      " |-- V7: double (nullable = true)\n",
      " |-- V8: double (nullable = true)\n",
      " |-- V9: double (nullable = true)\n",
      " |-- V10: double (nullable = true)\n",
      " |-- V11: double (nullable = true)\n",
      " |-- V12: double (nullable = true)\n",
      " |-- V13: double (nullable = true)\n",
      " |-- V14: double (nullable = true)\n",
      " |-- V15: double (nullable = true)\n",
      " |-- V16: double (nullable = true)\n",
      " |-- V17: double (nullable = true)\n",
      " |-- V18: double (nullable = true)\n",
      " |-- V19: double (nullable = true)\n",
      " |-- V20: double (nullable = true)\n",
      " |-- V21: double (nullable = true)\n",
      " |-- V22: double (nullable = true)\n",
      " |-- V23: double (nullable = true)\n",
      " |-- V24: double (nullable = true)\n",
      " |-- V25: double (nullable = true)\n",
      " |-- V26: double (nullable = true)\n",
      " |-- V27: double (nullable = true)\n",
      " |-- V28: double (nullable = true)\n",
      " |-- Amount: double (nullable = true)\n",
      " |-- Class: integer (nullable = true)\n",
      "\n"
     ]
    }
   ],
   "source": [
    "# Show the schema and the first 10 rows\n",
    "data.printSchema()"
   ]
  },
  {
   "cell_type": "code",
   "execution_count": 9,
   "id": "cd8408bd-07b2-4cea-84db-307774039c27",
   "metadata": {},
   "outputs": [
    {
     "name": "stdout",
     "output_type": "stream",
     "text": [
      "+----+------------------+-------------------+------------------+------+-----+\n",
      "|Time|V1                |V2                 |V3                |Amount|Class|\n",
      "+----+------------------+-------------------+------------------+------+-----+\n",
      "|0.0 |-1.3598071336738  |-0.0727811733098497|2.53634673796914  |149.62|0    |\n",
      "|0.0 |1.19185711131486  |0.26615071205963   |0.16648011335321  |2.69  |0    |\n",
      "|1.0 |-1.35835406159823 |-1.34016307473609  |1.77320934263119  |378.66|0    |\n",
      "|1.0 |-0.966271711572087|-0.185226008082898 |1.79299333957872  |123.5 |0    |\n",
      "|2.0 |-1.15823309349523 |0.877736754848451  |1.548717846511    |69.99 |0    |\n",
      "|2.0 |-0.425965884412454|0.960523044882985  |1.14110934232219  |3.67  |0    |\n",
      "|4.0 |1.22965763450793  |0.141003507049326  |0.0453707735899449|4.99  |0    |\n",
      "|7.0 |-0.644269442348146|1.41796354547385   |1.0743803763556   |40.8  |0    |\n",
      "|7.0 |-0.89428608220282 |0.286157196276544  |-0.113192212729871|93.2  |0    |\n",
      "|9.0 |-0.33826175242575 |1.11959337641566   |1.04436655157316  |3.68  |0    |\n",
      "+----+------------------+-------------------+------------------+------+-----+\n",
      "only showing top 10 rows\n",
      "\n"
     ]
    }
   ],
   "source": [
    "# Display a subset of columns to avoid overlap\n",
    "data.select(\"Time\", \"V1\", \"V2\", \"V3\", \"Amount\", \"Class\").show(10, truncate=False)\n"
   ]
  },
  {
   "cell_type": "code",
   "execution_count": 11,
   "id": "a637910a-7f70-4b8a-91b2-f9f41419f0e6",
   "metadata": {},
   "outputs": [
    {
     "data": {
      "text/html": [
       "<div>\n",
       "<style scoped>\n",
       "    .dataframe tbody tr th:only-of-type {\n",
       "        vertical-align: middle;\n",
       "    }\n",
       "\n",
       "    .dataframe tbody tr th {\n",
       "        vertical-align: top;\n",
       "    }\n",
       "\n",
       "    .dataframe thead th {\n",
       "        text-align: right;\n",
       "    }\n",
       "</style>\n",
       "<table border=\"1\" class=\"dataframe\">\n",
       "  <thead>\n",
       "    <tr style=\"text-align: right;\">\n",
       "      <th></th>\n",
       "      <th>Time</th>\n",
       "      <th>V1</th>\n",
       "      <th>V2</th>\n",
       "      <th>V3</th>\n",
       "      <th>V4</th>\n",
       "      <th>V5</th>\n",
       "      <th>V6</th>\n",
       "      <th>V7</th>\n",
       "      <th>V8</th>\n",
       "      <th>V9</th>\n",
       "      <th>...</th>\n",
       "      <th>V21</th>\n",
       "      <th>V22</th>\n",
       "      <th>V23</th>\n",
       "      <th>V24</th>\n",
       "      <th>V25</th>\n",
       "      <th>V26</th>\n",
       "      <th>V27</th>\n",
       "      <th>V28</th>\n",
       "      <th>Amount</th>\n",
       "      <th>Class</th>\n",
       "    </tr>\n",
       "  </thead>\n",
       "  <tbody>\n",
       "    <tr>\n",
       "      <th>0</th>\n",
       "      <td>0.0</td>\n",
       "      <td>-1.359807</td>\n",
       "      <td>-0.072781</td>\n",
       "      <td>2.536347</td>\n",
       "      <td>1.378155</td>\n",
       "      <td>-0.338321</td>\n",
       "      <td>0.462388</td>\n",
       "      <td>0.239599</td>\n",
       "      <td>0.098698</td>\n",
       "      <td>0.363787</td>\n",
       "      <td>...</td>\n",
       "      <td>-0.018307</td>\n",
       "      <td>0.277838</td>\n",
       "      <td>-0.110474</td>\n",
       "      <td>0.066928</td>\n",
       "      <td>0.128539</td>\n",
       "      <td>-0.189115</td>\n",
       "      <td>0.133558</td>\n",
       "      <td>-0.021053</td>\n",
       "      <td>149.62</td>\n",
       "      <td>0</td>\n",
       "    </tr>\n",
       "    <tr>\n",
       "      <th>1</th>\n",
       "      <td>0.0</td>\n",
       "      <td>1.191857</td>\n",
       "      <td>0.266151</td>\n",
       "      <td>0.166480</td>\n",
       "      <td>0.448154</td>\n",
       "      <td>0.060018</td>\n",
       "      <td>-0.082361</td>\n",
       "      <td>-0.078803</td>\n",
       "      <td>0.085102</td>\n",
       "      <td>-0.255425</td>\n",
       "      <td>...</td>\n",
       "      <td>-0.225775</td>\n",
       "      <td>-0.638672</td>\n",
       "      <td>0.101288</td>\n",
       "      <td>-0.339846</td>\n",
       "      <td>0.167170</td>\n",
       "      <td>0.125895</td>\n",
       "      <td>-0.008983</td>\n",
       "      <td>0.014724</td>\n",
       "      <td>2.69</td>\n",
       "      <td>0</td>\n",
       "    </tr>\n",
       "    <tr>\n",
       "      <th>2</th>\n",
       "      <td>1.0</td>\n",
       "      <td>-1.358354</td>\n",
       "      <td>-1.340163</td>\n",
       "      <td>1.773209</td>\n",
       "      <td>0.379780</td>\n",
       "      <td>-0.503198</td>\n",
       "      <td>1.800499</td>\n",
       "      <td>0.791461</td>\n",
       "      <td>0.247676</td>\n",
       "      <td>-1.514654</td>\n",
       "      <td>...</td>\n",
       "      <td>0.247998</td>\n",
       "      <td>0.771679</td>\n",
       "      <td>0.909412</td>\n",
       "      <td>-0.689281</td>\n",
       "      <td>-0.327642</td>\n",
       "      <td>-0.139097</td>\n",
       "      <td>-0.055353</td>\n",
       "      <td>-0.059752</td>\n",
       "      <td>378.66</td>\n",
       "      <td>0</td>\n",
       "    </tr>\n",
       "    <tr>\n",
       "      <th>3</th>\n",
       "      <td>1.0</td>\n",
       "      <td>-0.966272</td>\n",
       "      <td>-0.185226</td>\n",
       "      <td>1.792993</td>\n",
       "      <td>-0.863291</td>\n",
       "      <td>-0.010309</td>\n",
       "      <td>1.247203</td>\n",
       "      <td>0.237609</td>\n",
       "      <td>0.377436</td>\n",
       "      <td>-1.387024</td>\n",
       "      <td>...</td>\n",
       "      <td>-0.108300</td>\n",
       "      <td>0.005274</td>\n",
       "      <td>-0.190321</td>\n",
       "      <td>-1.175575</td>\n",
       "      <td>0.647376</td>\n",
       "      <td>-0.221929</td>\n",
       "      <td>0.062723</td>\n",
       "      <td>0.061458</td>\n",
       "      <td>123.50</td>\n",
       "      <td>0</td>\n",
       "    </tr>\n",
       "    <tr>\n",
       "      <th>4</th>\n",
       "      <td>2.0</td>\n",
       "      <td>-1.158233</td>\n",
       "      <td>0.877737</td>\n",
       "      <td>1.548718</td>\n",
       "      <td>0.403034</td>\n",
       "      <td>-0.407193</td>\n",
       "      <td>0.095921</td>\n",
       "      <td>0.592941</td>\n",
       "      <td>-0.270533</td>\n",
       "      <td>0.817739</td>\n",
       "      <td>...</td>\n",
       "      <td>-0.009431</td>\n",
       "      <td>0.798278</td>\n",
       "      <td>-0.137458</td>\n",
       "      <td>0.141267</td>\n",
       "      <td>-0.206010</td>\n",
       "      <td>0.502292</td>\n",
       "      <td>0.219422</td>\n",
       "      <td>0.215153</td>\n",
       "      <td>69.99</td>\n",
       "      <td>0</td>\n",
       "    </tr>\n",
       "    <tr>\n",
       "      <th>5</th>\n",
       "      <td>2.0</td>\n",
       "      <td>-0.425966</td>\n",
       "      <td>0.960523</td>\n",
       "      <td>1.141109</td>\n",
       "      <td>-0.168252</td>\n",
       "      <td>0.420987</td>\n",
       "      <td>-0.029728</td>\n",
       "      <td>0.476201</td>\n",
       "      <td>0.260314</td>\n",
       "      <td>-0.568671</td>\n",
       "      <td>...</td>\n",
       "      <td>-0.208254</td>\n",
       "      <td>-0.559825</td>\n",
       "      <td>-0.026398</td>\n",
       "      <td>-0.371427</td>\n",
       "      <td>-0.232794</td>\n",
       "      <td>0.105915</td>\n",
       "      <td>0.253844</td>\n",
       "      <td>0.081080</td>\n",
       "      <td>3.67</td>\n",
       "      <td>0</td>\n",
       "    </tr>\n",
       "    <tr>\n",
       "      <th>6</th>\n",
       "      <td>4.0</td>\n",
       "      <td>1.229658</td>\n",
       "      <td>0.141004</td>\n",
       "      <td>0.045371</td>\n",
       "      <td>1.202613</td>\n",
       "      <td>0.191881</td>\n",
       "      <td>0.272708</td>\n",
       "      <td>-0.005159</td>\n",
       "      <td>0.081213</td>\n",
       "      <td>0.464960</td>\n",
       "      <td>...</td>\n",
       "      <td>-0.167716</td>\n",
       "      <td>-0.270710</td>\n",
       "      <td>-0.154104</td>\n",
       "      <td>-0.780055</td>\n",
       "      <td>0.750137</td>\n",
       "      <td>-0.257237</td>\n",
       "      <td>0.034507</td>\n",
       "      <td>0.005168</td>\n",
       "      <td>4.99</td>\n",
       "      <td>0</td>\n",
       "    </tr>\n",
       "    <tr>\n",
       "      <th>7</th>\n",
       "      <td>7.0</td>\n",
       "      <td>-0.644269</td>\n",
       "      <td>1.417964</td>\n",
       "      <td>1.074380</td>\n",
       "      <td>-0.492199</td>\n",
       "      <td>0.948934</td>\n",
       "      <td>0.428118</td>\n",
       "      <td>1.120631</td>\n",
       "      <td>-3.807864</td>\n",
       "      <td>0.615375</td>\n",
       "      <td>...</td>\n",
       "      <td>1.943465</td>\n",
       "      <td>-1.015455</td>\n",
       "      <td>0.057504</td>\n",
       "      <td>-0.649709</td>\n",
       "      <td>-0.415267</td>\n",
       "      <td>-0.051634</td>\n",
       "      <td>-1.206921</td>\n",
       "      <td>-1.085339</td>\n",
       "      <td>40.80</td>\n",
       "      <td>0</td>\n",
       "    </tr>\n",
       "    <tr>\n",
       "      <th>8</th>\n",
       "      <td>7.0</td>\n",
       "      <td>-0.894286</td>\n",
       "      <td>0.286157</td>\n",
       "      <td>-0.113192</td>\n",
       "      <td>-0.271526</td>\n",
       "      <td>2.669599</td>\n",
       "      <td>3.721818</td>\n",
       "      <td>0.370145</td>\n",
       "      <td>0.851084</td>\n",
       "      <td>-0.392048</td>\n",
       "      <td>...</td>\n",
       "      <td>-0.073425</td>\n",
       "      <td>-0.268092</td>\n",
       "      <td>-0.204233</td>\n",
       "      <td>1.011592</td>\n",
       "      <td>0.373205</td>\n",
       "      <td>-0.384157</td>\n",
       "      <td>0.011747</td>\n",
       "      <td>0.142404</td>\n",
       "      <td>93.20</td>\n",
       "      <td>0</td>\n",
       "    </tr>\n",
       "    <tr>\n",
       "      <th>9</th>\n",
       "      <td>9.0</td>\n",
       "      <td>-0.338262</td>\n",
       "      <td>1.119593</td>\n",
       "      <td>1.044367</td>\n",
       "      <td>-0.222187</td>\n",
       "      <td>0.499361</td>\n",
       "      <td>-0.246761</td>\n",
       "      <td>0.651583</td>\n",
       "      <td>0.069539</td>\n",
       "      <td>-0.736727</td>\n",
       "      <td>...</td>\n",
       "      <td>-0.246914</td>\n",
       "      <td>-0.633753</td>\n",
       "      <td>-0.120794</td>\n",
       "      <td>-0.385050</td>\n",
       "      <td>-0.069733</td>\n",
       "      <td>0.094199</td>\n",
       "      <td>0.246219</td>\n",
       "      <td>0.083076</td>\n",
       "      <td>3.68</td>\n",
       "      <td>0</td>\n",
       "    </tr>\n",
       "  </tbody>\n",
       "</table>\n",
       "<p>10 rows × 31 columns</p>\n",
       "</div>"
      ],
      "text/plain": [
       "   Time        V1        V2        V3        V4        V5        V6        V7  \\\n",
       "0   0.0 -1.359807 -0.072781  2.536347  1.378155 -0.338321  0.462388  0.239599   \n",
       "1   0.0  1.191857  0.266151  0.166480  0.448154  0.060018 -0.082361 -0.078803   \n",
       "2   1.0 -1.358354 -1.340163  1.773209  0.379780 -0.503198  1.800499  0.791461   \n",
       "3   1.0 -0.966272 -0.185226  1.792993 -0.863291 -0.010309  1.247203  0.237609   \n",
       "4   2.0 -1.158233  0.877737  1.548718  0.403034 -0.407193  0.095921  0.592941   \n",
       "5   2.0 -0.425966  0.960523  1.141109 -0.168252  0.420987 -0.029728  0.476201   \n",
       "6   4.0  1.229658  0.141004  0.045371  1.202613  0.191881  0.272708 -0.005159   \n",
       "7   7.0 -0.644269  1.417964  1.074380 -0.492199  0.948934  0.428118  1.120631   \n",
       "8   7.0 -0.894286  0.286157 -0.113192 -0.271526  2.669599  3.721818  0.370145   \n",
       "9   9.0 -0.338262  1.119593  1.044367 -0.222187  0.499361 -0.246761  0.651583   \n",
       "\n",
       "         V8        V9  ...       V21       V22       V23       V24       V25  \\\n",
       "0  0.098698  0.363787  ... -0.018307  0.277838 -0.110474  0.066928  0.128539   \n",
       "1  0.085102 -0.255425  ... -0.225775 -0.638672  0.101288 -0.339846  0.167170   \n",
       "2  0.247676 -1.514654  ...  0.247998  0.771679  0.909412 -0.689281 -0.327642   \n",
       "3  0.377436 -1.387024  ... -0.108300  0.005274 -0.190321 -1.175575  0.647376   \n",
       "4 -0.270533  0.817739  ... -0.009431  0.798278 -0.137458  0.141267 -0.206010   \n",
       "5  0.260314 -0.568671  ... -0.208254 -0.559825 -0.026398 -0.371427 -0.232794   \n",
       "6  0.081213  0.464960  ... -0.167716 -0.270710 -0.154104 -0.780055  0.750137   \n",
       "7 -3.807864  0.615375  ...  1.943465 -1.015455  0.057504 -0.649709 -0.415267   \n",
       "8  0.851084 -0.392048  ... -0.073425 -0.268092 -0.204233  1.011592  0.373205   \n",
       "9  0.069539 -0.736727  ... -0.246914 -0.633753 -0.120794 -0.385050 -0.069733   \n",
       "\n",
       "        V26       V27       V28  Amount  Class  \n",
       "0 -0.189115  0.133558 -0.021053  149.62      0  \n",
       "1  0.125895 -0.008983  0.014724    2.69      0  \n",
       "2 -0.139097 -0.055353 -0.059752  378.66      0  \n",
       "3 -0.221929  0.062723  0.061458  123.50      0  \n",
       "4  0.502292  0.219422  0.215153   69.99      0  \n",
       "5  0.105915  0.253844  0.081080    3.67      0  \n",
       "6 -0.257237  0.034507  0.005168    4.99      0  \n",
       "7 -0.051634 -1.206921 -1.085339   40.80      0  \n",
       "8 -0.384157  0.011747  0.142404   93.20      0  \n",
       "9  0.094199  0.246219  0.083076    3.68      0  \n",
       "\n",
       "[10 rows x 31 columns]"
      ]
     },
     "execution_count": 11,
     "metadata": {},
     "output_type": "execute_result"
    }
   ],
   "source": [
    "# Convert to Pandas DataFrame for better display in Jupyter Notebook\n",
    "data_in_pd=data.limit(10).toPandas()\n",
    "data_in_pd"
   ]
  },
  {
   "cell_type": "code",
   "execution_count": 13,
   "id": "c245e7d0-5db0-4504-a618-15a21ff07fcc",
   "metadata": {},
   "outputs": [
    {
     "name": "stdout",
     "output_type": "stream",
     "text": [
      "['Time', 'V1', 'V2', 'V3', 'V4', 'V5', 'V6', 'V7', 'V8', 'V9', 'V10', 'V11', 'V12', 'V13', 'V14', 'V15', 'V16', 'V17', 'V18', 'V19', 'V20', 'V21', 'V22', 'V23', 'V24', 'V25', 'V26', 'V27', 'V28', 'Amount', 'Class']\n"
     ]
    }
   ],
   "source": [
    "# Show only the column names\n",
    "print(data.columns)\n"
   ]
  },
  {
   "cell_type": "code",
   "execution_count": 15,
   "id": "4931f161-a648-4967-956b-9a512683b534",
   "metadata": {},
   "outputs": [
    {
     "name": "stdout",
     "output_type": "stream",
     "text": [
      "Total number of rows: 284807\n"
     ]
    }
   ],
   "source": [
    "\n",
    "# Count the total number of rows\n",
    "total_rows = data.count()\n",
    "print(f\"Total number of rows: {total_rows}\")\n"
   ]
  },
  {
   "cell_type": "code",
   "execution_count": 17,
   "id": "cc61ca2b-bdc5-4b84-b710-0d1060fd6d8d",
   "metadata": {},
   "outputs": [
    {
     "name": "stdout",
     "output_type": "stream",
     "text": [
      "+-----+------+\n",
      "|Class| count|\n",
      "+-----+------+\n",
      "|    1|   492|\n",
      "|    0|284315|\n",
      "+-----+------+\n",
      "\n"
     ]
    }
   ],
   "source": [
    "# Counting the total number of Fraud and non-Fraud Transactions in dataset\n",
    "data.groupBy(\"Class\").count().show()\n"
   ]
  },
  {
   "cell_type": "markdown",
   "id": "3707b40c-f88c-4537-b833-7cc0d1c8e129",
   "metadata": {},
   "source": [
    "**As it can be seen , it is a highly imbalanced dataset with just 492 fraud transactions out of 284807**"
   ]
  },
  {
   "cell_type": "markdown",
   "id": "46ec9b98-57b7-49b8-aaf7-961a98db31d3",
   "metadata": {},
   "source": [
    "# 2. Data Cleaning and Transformation"
   ]
  },
  {
   "cell_type": "code",
   "execution_count": 19,
   "id": "8bdfd36b-b437-414c-ac90-a968bf276d32",
   "metadata": {},
   "outputs": [
    {
     "name": "stdout",
     "output_type": "stream",
     "text": [
      "+----+---+---+---+---+---+---+---+---+---+---+---+---+---+---+---+---+---+---+---+---+---+---+---+---+---+---+---+---+------+-----+\n",
      "|Time| V1| V2| V3| V4| V5| V6| V7| V8| V9|V10|V11|V12|V13|V14|V15|V16|V17|V18|V19|V20|V21|V22|V23|V24|V25|V26|V27|V28|Amount|Class|\n",
      "+----+---+---+---+---+---+---+---+---+---+---+---+---+---+---+---+---+---+---+---+---+---+---+---+---+---+---+---+---+------+-----+\n",
      "|   0|  0|  0|  0|  0|  0|  0|  0|  0|  0|  0|  0|  0|  0|  0|  0|  0|  0|  0|  0|  0|  0|  0|  0|  0|  0|  0|  0|  0|     0|    0|\n",
      "+----+---+---+---+---+---+---+---+---+---+---+---+---+---+---+---+---+---+---+---+---+---+---+---+---+---+---+---+---+------+-----+\n",
      "\n"
     ]
    }
   ],
   "source": [
    "from pyspark.sql.functions import col, isnan, when, count\n",
    "from pyspark.sql.types import IntegerType, DoubleType\n",
    "from pyspark.sql import functions as F\n",
    "\n",
    "\n",
    "# 1. Checking for missing values in each column\n",
    "data.select([count(when(col(c).isNull() | isnan(c), c)).alias(c) for c in data.columns]).show()\n",
    "\n"
   ]
  },
  {
   "cell_type": "markdown",
   "id": "7b56b8a7-4926-4923-82c1-05bf07cd7bcb",
   "metadata": {},
   "source": [
    "\n",
    "**As it can be seen through analysis , there are no null values in any of the 31 columns**"
   ]
  },
  {
   "cell_type": "code",
   "execution_count": 21,
   "id": "94bebeb6-de7b-4c94-bc52-541f4d854a00",
   "metadata": {},
   "outputs": [],
   "source": [
    "# 2. Remove Duplicate Records\n",
    "# Dropping duplicate rows (if any)\n",
    "data = data.dropDuplicates()\n",
    "\n"
   ]
  },
  {
   "cell_type": "code",
   "execution_count": 23,
   "id": "7016c0ce-beac-47ad-aae1-42bc6e746769",
   "metadata": {},
   "outputs": [
    {
     "name": "stdout",
     "output_type": "stream",
     "text": [
      "root\n",
      " |-- Time: double (nullable = true)\n",
      " |-- V1: double (nullable = true)\n",
      " |-- V2: double (nullable = true)\n",
      " |-- V3: double (nullable = true)\n",
      " |-- V4: double (nullable = true)\n",
      " |-- V5: double (nullable = true)\n",
      " |-- V6: double (nullable = true)\n",
      " |-- V7: double (nullable = true)\n",
      " |-- V8: double (nullable = true)\n",
      " |-- V9: double (nullable = true)\n",
      " |-- V10: double (nullable = true)\n",
      " |-- V11: double (nullable = true)\n",
      " |-- V12: double (nullable = true)\n",
      " |-- V13: double (nullable = true)\n",
      " |-- V14: double (nullable = true)\n",
      " |-- V15: double (nullable = true)\n",
      " |-- V16: double (nullable = true)\n",
      " |-- V17: double (nullable = true)\n",
      " |-- V18: double (nullable = true)\n",
      " |-- V19: double (nullable = true)\n",
      " |-- V20: double (nullable = true)\n",
      " |-- V21: double (nullable = true)\n",
      " |-- V22: double (nullable = true)\n",
      " |-- V23: double (nullable = true)\n",
      " |-- V24: double (nullable = true)\n",
      " |-- V25: double (nullable = true)\n",
      " |-- V26: double (nullable = true)\n",
      " |-- V27: double (nullable = true)\n",
      " |-- V28: double (nullable = true)\n",
      " |-- Amount: double (nullable = true)\n",
      " |-- Class: integer (nullable = true)\n",
      "\n"
     ]
    }
   ],
   "source": [
    "# 3. Convert Columns to Appropriate Data Types\n",
    "# Check current data types\n",
    "data.printSchema()\n",
    "\n"
   ]
  },
  {
   "cell_type": "markdown",
   "id": "fb1997e3-b853-476d-89c0-bb4b7b116347",
   "metadata": {},
   "source": [
    "**There is no need to convert  datatype of any feature as our amount and other anonymous features are \"Double\" type and our target variable \"Class\" is \"Integer\" type**\n"
   ]
  },
  {
   "cell_type": "code",
   "execution_count": 25,
   "id": "172ac88a-507b-4075-a5ba-467dbf53f791",
   "metadata": {},
   "outputs": [],
   "source": [
    "# 4. Filter Out Invalid Rows\n",
    "# Remove rows with invalid 'Amount' values (e.g., Amount < 0)\n",
    "data = data.filter(col(\"Amount\") >= 0)\n"
   ]
  },
  {
   "cell_type": "code",
   "execution_count": 27,
   "id": "4a100263-f4d9-48e1-8226-787ce9734ce4",
   "metadata": {},
   "outputs": [],
   "source": [
    "# 5. Normalization \n",
    "# Here we standardize the 'Amount' column\n",
    "from pyspark.ml.feature import StandardScaler, VectorAssembler\n",
    "\n",
    "# Assemble the 'Amount' column into a vector for scaling\n",
    "assembler = VectorAssembler(inputCols=[\"Amount\"], outputCol=\"AmountVec\")\n",
    "data = assembler.transform(data)\n",
    "\n",
    "\n"
   ]
  },
  {
   "cell_type": "code",
   "execution_count": 29,
   "id": "0a080c77-266e-44a8-a7e4-e1b249908059",
   "metadata": {},
   "outputs": [],
   "source": [
    "# Apply StandardScaler for normalization\n",
    "scaler = StandardScaler(inputCol=\"AmountVec\", outputCol=\"ScaledAmount\")\n",
    "scaler_model = scaler.fit(data)\n",
    "data = scaler_model.transform(data)\n",
    "\n"
   ]
  },
  {
   "cell_type": "code",
   "execution_count": 31,
   "id": "0642e7cb-228d-4b8e-acad-20af8e85bb35",
   "metadata": {},
   "outputs": [],
   "source": [
    "# Drop temporary 'AmountVec' column after scaling\n",
    "data = data.drop(\"AmountVec\")"
   ]
  },
  {
   "cell_type": "code",
   "execution_count": 33,
   "id": "1ab0d31f-5d4b-4534-858b-7a9f9b0b850d",
   "metadata": {},
   "outputs": [
    {
     "name": "stdout",
     "output_type": "stream",
     "text": [
      "+------------------+-------------------+------------------+------+----------------------+-----+\n",
      "|V1                |V2                 |V3                |Amount|ScaledAmount          |Class|\n",
      "+------------------+-------------------+------------------+------+----------------------+-----+\n",
      "|-0.529912284186556|0.873891581460326  |1.34724732930113  |6.14  |[0.02452082189450426] |0    |\n",
      "|-0.600816388115364|0.922454525911535  |-0.135951820418704|1.79  |[0.007148578369896194]|0    |\n",
      "|-1.5057791635308  |-0.215325117259078 |1.99129427646285  |82.29 |[0.3286349240551719]  |0    |\n",
      "|-0.491003017302294|0.906952627077483  |1.64542281975857  |9.03  |[0.03606238138556571] |0    |\n",
      "|-0.528217504778877|0.981231846386665  |1.6529880537617   |6.99  |[0.027915398215404688]|0    |\n",
      "|-3.90081029867848 |-3.09837020429443  |-0.21342836428919 |1528.9|[6.105844396499603]   |0    |\n",
      "|-1.53695801321944 |-0.0414224787415122|0.62984626092522  |1.0   |[0.003993619201059326]|0    |\n",
      "|-1.21250203984735 |-0.058850913337692 |1.82343455295237  |48.94 |[0.1954477236998434]  |0    |\n",
      "|-0.88352858430582 |1.1739736253672    |0.967297814724589 |34.15 |[0.13638209571617596] |0    |\n",
      "|-1.4343476082208  |0.0124699766273357 |3.32738623176906  |8.0   |[0.031948953608474606]|0    |\n",
      "+------------------+-------------------+------------------+------+----------------------+-----+\n",
      "only showing top 10 rows\n",
      "\n"
     ]
    }
   ],
   "source": [
    "data.select( \"V1\", \"V2\", \"V3\", \"Amount\",\"ScaledAmount\", \"Class\").show(10, truncate=False)"
   ]
  },
  {
   "cell_type": "markdown",
   "id": "1399ba57-4324-4207-baec-70a399737050",
   "metadata": {},
   "source": [
    "**Since the amount column had different range of values compared to other fetaures from \"v1-v28\", it was necessary to scale it for accurate analysis.**"
   ]
  },
  {
   "cell_type": "markdown",
   "id": "6e105258-42c2-4ba0-b1e6-6e7db35aca88",
   "metadata": {},
   "source": [
    "### Explanation of Each Transformation:\n",
    "- **filter():** Used to remove rows based on a specific condition. Here, rows with an Amount value less than 0 are filtered out.\n",
    "- **drop():** Removes null values or duplicates from the dataset.\n",
    "- **drop():** Removes null values or duplicates from the dataset.\n",
    "- **drop():** Removes null values or duplicates from the dataset.\n",
    "- **fillna():** Fills missing values with specified values. This is useful when we want to impute null values in certain columns.\n",
    "- **withColumn():** Used to cast columns to the desired data type and to add new columns created from transformations or UDFs.\n",
    "- **cast():** Changes data types of columns, ensuring they match the desired format (e.g., DoubleType for Amount).\n"
   ]
  },
  {
   "cell_type": "markdown",
   "id": "1d897644-14f5-49a8-9ab9-607437acd086",
   "metadata": {},
   "source": [
    "- **Balancing the Dataset with Undersampling:**\n",
    "- We’ll proceed with undersampling by reducing the non-fraudulent transactions to match the number of fraudulent transactions."
   ]
  },
  {
   "cell_type": "code",
   "execution_count": 35,
   "id": "759f2665-45b6-4f4c-9333-c400c851a7de",
   "metadata": {},
   "outputs": [
    {
     "name": "stdout",
     "output_type": "stream",
     "text": [
      "+-----+-----+\n",
      "|Class|count|\n",
      "+-----+-----+\n",
      "|    1|  473|\n",
      "|    0|  467|\n",
      "+-----+-----+\n",
      "\n"
     ]
    }
   ],
   "source": [
    "# Count the number of instances in each class\n",
    "fraud_df = data.filter(data.Class == 1)\n",
    "non_fraud_df = data.filter(data.Class == 0)\n",
    "\n",
    "# Determine the count of the minority class (fraud)\n",
    "fraud_count = fraud_df.count()\n",
    "\n",
    "# Undersample the majority class (non-fraud) to match the minority count\n",
    "non_fraud_sampled_df = non_fraud_df.sample(fraction=fraud_count / non_fraud_df.count(), seed=42)\n",
    "\n",
    "# Combine the sampled non-fraud transactions with all fraud transactions\n",
    "balanced_df = fraud_df.union(non_fraud_sampled_df)\n",
    "\n",
    "# Check the new class distribution\n",
    "balanced_df.groupBy(\"Class\").count().show()\n"
   ]
  },
  {
   "cell_type": "markdown",
   "id": "20574189-172d-4422-a7b3-4382afdad10c",
   "metadata": {},
   "source": [
    "- **Undersampling is done on the non-fraudulent transactions. The result is a balanced dataset with an almost equal number of fraudulent and non-fraudulent records, preventing model bias.**\n",
    "- **Feature Engineering and Modeling:** After balancing, balanced_df is used for feature engineering, model building, and evaluation steps, ensuring a balanced training set."
   ]
  },
  {
   "cell_type": "markdown",
   "id": "4293b56f-4c5e-404c-b54f-ea94517334cd",
   "metadata": {},
   "source": [
    "# Visualizations"
   ]
  },
  {
   "cell_type": "code",
   "execution_count": 158,
   "id": "ede4cecc-077c-4a29-bed2-0784a017dbeb",
   "metadata": {},
   "outputs": [],
   "source": [
    "from pyspark.sql import SparkSession\n",
    "import matplotlib.pyplot as plt\n",
    "import seaborn as sns"
   ]
  },
  {
   "cell_type": "code",
   "execution_count": 160,
   "id": "0a2890b7-50da-4df7-910d-512fa238a9d3",
   "metadata": {},
   "outputs": [],
   "source": [
    "# Convert to Pandas DataFrame for visualization\n",
    "pandas_df = balanced_df.toPandas()\n",
    "\n",
    "# Set the style for the plots\n",
    "sns.set(style='whitegrid')"
   ]
  },
  {
   "cell_type": "code",
   "execution_count": 162,
   "id": "39882a7e-209e-42b9-92b3-69a1e2dc4042",
   "metadata": {},
   "outputs": [
    {
     "data": {
      "image/png": "[encoded data removed]",
      "text/plain": [
       "<Figure size 1000x600 with 1 Axes>"
      ]
     },
     "metadata": {},
     "output_type": "display_data"
    }
   ],
   "source": [
    "# Bivariate Visualization for Amount vs. Class\n",
    "plt.figure(figsize=(10, 6))\n",
    "sns.boxplot(data=pandas_df, x='Class', y='Amount')\n",
    "plt.title('Boxplot of Amount by Fraud Class')\n",
    "plt.xlabel('Class')\n",
    "plt.ylabel('Transaction Amount')\n",
    "plt.xticks(ticks=[0, 1], labels=['Non-Fraud (0)', 'Fraud (1)'])\n",
    "plt.show()"
   ]
  },
  {
   "cell_type": "code",
   "execution_count": 182,
   "id": "2ef8a631-f56a-449a-88d3-d0e931d6d67d",
   "metadata": {},
   "outputs": [
    {
     "data": {
      "image/png": "[encoded data removed]",
      "text/plain": [
       "<Figure size 1000x600 with 1 Axes>"
      ]
     },
     "metadata": {},
     "output_type": "display_data"
    }
   ],
   "source": [
    "\n",
    "# Set the figure size\n",
    "plt.figure(figsize=(10, 6))\n",
    "\n",
    "# Create a scatter plot\n",
    "sns.scatterplot(data=pandas_df, x='Class', y='Amount', hue='Class', alpha=0.6)\n",
    "\n",
    "# Set plot title and labels\n",
    "plt.title('Scatter Plot of Amount vs. Class', fontsize=16)\n",
    "plt.xlabel('Class (0: Non-Fraud, 1: Fraud)', fontsize=14)\n",
    "plt.ylabel('Transaction Amount', fontsize=14)\n",
    "\n",
    "# Show the plot\n",
    "plt.grid(True)  # Optional: Add gridlines for better readability\n",
    "plt.show()\n"
   ]
  },
  {
   "cell_type": "markdown",
   "id": "f4bf6f08-efb8-47f4-98dd-a81d1d1a78f1",
   "metadata": {},
   "source": [
    "- **From the scatter plot, it is evident that transaction amounts of non-fraud transactions are relatively higher than those of fraudulent transactions.**\n",
    "- **Fraud Transactions lie between an amount of 0 to near about 2200 dollars.It gives us insight that fraudsters usually target lower transaction amounts**"
   ]
  },
  {
   "cell_type": "code",
   "execution_count": 180,
   "id": "bb2d2e07-11ac-45b4-888f-c94cb4da64e2",
   "metadata": {},
   "outputs": [
    {
     "data": {
      "image/png": "[encoded data removed]",
      "text/plain": [
       "<Figure size 1000x600 with 1 Axes>"
      ]
     },
     "metadata": {},
     "output_type": "display_data"
    }
   ],
   "source": [
    "\n",
    "# Set the figure size\n",
    "plt.figure(figsize=(10, 6))\n",
    "\n",
    "# Create a histogram with a kernel density estimate\n",
    "sns.histplot(data=pandas_df, x='Amount', kde=True, bins=30, color='blue', alpha=0.6)\n",
    "\n",
    "# Set plot title and labels\n",
    "plt.title('Distribution of Transaction Amount', fontsize=16)\n",
    "plt.xlabel('Transaction Amount', fontsize=14)\n",
    "plt.ylabel('Frequency', fontsize=14)\n",
    "\n",
    "# Show the plot\n",
    "plt.grid(True)  # Optional: Add gridlines for better readability\n",
    "plt.show()\n"
   ]
  },
  {
   "cell_type": "markdown",
   "id": "6fd67a44-036b-495f-a5a9-427e4f91eacc",
   "metadata": {},
   "source": [
    "**The histogram above shows that majority of transactions lie between an amount ranging from 0 to 2500 dollars and the most common ones range from 0 to 500**"
   ]
  },
  {
   "cell_type": "markdown",
   "id": "1c519ccf-d82f-411e-a1db-34dfeb39e38b",
   "metadata": {},
   "source": [
    "#  3. Data Analysis Using Spark SQL"
   ]
  },
  {
   "cell_type": "markdown",
   "id": "c536bccf-cedf-42e7-a813-5f74c69f7fb1",
   "metadata": {},
   "source": [
    "__Step 1: Register balanced_df as a Temporary View__"
   ]
  },
  {
   "cell_type": "code",
   "execution_count": 37,
   "id": "1db0c252-9646-4a3a-89ba-a46e2aecca6c",
   "metadata": {},
   "outputs": [],
   "source": [
    "# Register the balanced DataFrame as a temporary SQL view\n",
    "balanced_df.createOrReplaceTempView(\"creditcard_data\")\n"
   ]
  },
  {
   "cell_type": "markdown",
   "id": "492c986c-5140-4ae5-9a79-87a620a311de",
   "metadata": {},
   "source": [
    "- __Step 2: Aggregation - Calculate Summary Statistics__\n",
    "- __Calculate the mean, median (approximate), and standard deviation for all numerical columns.)__"
   ]
  },
  {
   "cell_type": "code",
   "execution_count": 39,
   "id": "9480d72c-c1fd-492c-bc5f-34baf33b018d",
   "metadata": {},
   "outputs": [
    {
     "name": "stdout",
     "output_type": "stream",
     "text": [
      "+----------+----------+----------+----------+----------+----------+-----------+-------------+-------------+\n",
      "|   mean_V1| stddev_V1|   mean_V2| stddev_V2|   mean_V3| stddev_V3|mean_Amount|stddev_Amount|median_Amount|\n",
      "+----------+----------+----------+----------+----------+----------+-----------+-------------+-------------+\n",
      "|-2.2122...|5.33985...|1.71469...|3.53835...|-3.3701...|6.03878...| 103.253...|   270.510...|         17.0|\n",
      "+----------+----------+----------+----------+----------+----------+-----------+-------------+-------------+\n",
      "\n"
     ]
    }
   ],
   "source": [
    "# Aggregation: Summary statistics for numerical columns\n",
    "aggregation_query = \"\"\"\n",
    "SELECT \n",
    "    AVG(V1) AS mean_V1, STDDEV(V1) AS stddev_V1,\n",
    "    AVG(V2) AS mean_V2, STDDEV(V2) AS stddev_V2,\n",
    "    AVG(V3) AS mean_V3, STDDEV(V3) AS stddev_V3,\n",
    "    AVG(Amount) AS mean_Amount, STDDEV(Amount) AS stddev_Amount,\n",
    "    APPROX_PERCENTILE(Amount, 0.5) AS median_Amount\n",
    "FROM creditcard_data\n",
    "\"\"\"\n",
    "\n",
    "summary_stats = spark.sql(aggregation_query)\n",
    "summary_stats.show(truncate=10)\n"
   ]
  },
  {
   "cell_type": "markdown",
   "id": "7917b417-b881-4605-abdd-af3ac03128d1",
   "metadata": {},
   "source": [
    "# INSIGHTS:\n",
    "- **Mean Values:**\n",
    "\n",
    "- V1 and V3 have negative mean values, indicating a skewed distribution, while V2 is positive.\n",
    "- The mean transaction amount is approximately $103.25, serving as a baseline for comparison.\n",
    "\n",
    "- **Standard Deviations:**\n",
    "                                                                                                                                    \n",
    "- High standard deviations for V1 (5.34) and V3 (6.04) show significant variability, suggesting these features are crucial for differentiating transactions.\n",
    "- The standard deviation of the amount ($270.51) indicates wide variation in transaction sizes.\n",
    "\n",
    "\n",
    "- **Median Amount:**\n",
    "\n",
    "- The median amount of $17.00, significantly lower than the mean, suggests that most transactions are small, with a few high-value transactions inflating the mean.\n",
    "  \n",
    "- **1. Fraud Detection Potential:**\n",
    "\n",
    "- The differences between mean and median suggest that for fraud detection, we should focus on outliers.\n",
    "- Features with high variability could be important predictors in fraud detection models.\n",
    "\n",
    "- **2. Anomaly Detection:**\n",
    "\n",
    "Statistical properties indicate the potential for anomaly detection techniques to flag transactions that deviate significantly from typical behavior."
   ]
  },
  {
   "cell_type": "markdown",
   "id": "cdd9222f-9a38-468d-86d4-bbec7911f0f0",
   "metadata": {},
   "source": [
    "- **Step 3: Grouping and Filtering**\n",
    "- **Group data by the Class column (0 for non-fraudulent, 1 for fraudulent) and calculate the average transaction amount and total count of transactions for each class**"
   ]
  },
  {
   "cell_type": "code",
   "execution_count": 41,
   "id": "c7feeb21-c3b4-4486-8d35-fdf32c9e9ea9",
   "metadata": {},
   "outputs": [
    {
     "name": "stdout",
     "output_type": "stream",
     "text": [
      "+-----+-----------------+------------------+\n",
      "|Class|transaction_count|        avg_amount|\n",
      "+-----+-----------------+------------------+\n",
      "|    1|              473|123.87186046511628|\n",
      "|    0|              467| 82.36929336188435|\n",
      "+-----+-----------------+------------------+\n",
      "\n"
     ]
    }
   ],
   "source": [
    "# Grouping and Filtering: Average Amount per Class\n",
    "grouping_query = \"\"\"\n",
    "SELECT \n",
    "    Class,\n",
    "    COUNT(*) AS transaction_count,\n",
    "    AVG(Amount) AS avg_amount\n",
    "FROM creditcard_data\n",
    "GROUP BY Class\n",
    "\"\"\"\n",
    "\n",
    "grouping_stats = spark.sql(grouping_query)\n",
    "grouping_stats.show()\n"
   ]
  },
  {
   "cell_type": "markdown",
   "id": "fd90daf7-f1ad-4782-a456-ebeec8bb463f",
   "metadata": {},
   "source": [
    "- In this query, we are trying to analyze the credit card transaction data by calculating the following for each class of transactions (fraudulent and legitimate):\n",
    "\n",
    "- **Count of Transactions:** We determine how many transactions belong to each class. This helps us understand the volume of transactions that are fraudulent versus those that are legitimate.\n",
    "\n",
    "- **Average Transaction Amount:** We compute the average amount of transactions for each class. This provides insights into spending behavior, allowing us to see if fraudulent transactions tend to have a higher or lower average amount compared to legitimate transactions."
   ]
  },
  {
   "cell_type": "markdown",
   "id": "e4a978a6-e6d1-43cd-81d9-8cf6cebd0d01",
   "metadata": {},
   "source": [
    "# INSIGHTS:\n",
    "\n",
    "- **Prevalence of Fraud:** The dataset shows more fraudulent transactions (473) compared to legitimate ones (467), highlighting a significant fraud concern.\n",
    "\n",
    "- **Larger Stakes:** Average fraudulent transaction amount 123.87 dollars is greater than  non-fraud transactions 82.37, indicating fraudsters may target larger amounts.\n"
   ]
  },
  {
   "cell_type": "markdown",
   "id": "18528afa-f56b-4df6-bfd9-ec72f41d903c",
   "metadata": {},
   "source": [
    "**Step 4: Join**"
   ]
  },
  {
   "cell_type": "markdown",
   "id": "1e62baef-3558-4347-867c-75cc4476de73",
   "metadata": {},
   "source": [
    "**In the join below ,creditcard_data is being joined with itself to find pairs of transactions that occurred within a very short time frame (e.g., within one minute) and had the same amount.**"
   ]
  },
  {
   "cell_type": "code",
   "execution_count": 43,
   "id": "1fe4ff2b-acd8-469f-982e-c47e36a29578",
   "metadata": {},
   "outputs": [
    {
     "name": "stdout",
     "output_type": "stream",
     "text": [
      "+------------------+------------------+--------+--------+-------+-------+\n",
      "|transaction_time_a|transaction_time_b|amount_a|amount_b|class_a|class_b|\n",
      "+------------------+------------------+--------+--------+-------+-------+\n",
      "|           28692.0|           28726.0|   99.99|   99.99|      1|      1|\n",
      "|           28692.0|           28658.0|   99.99|   99.99|      1|      1|\n",
      "|            8415.0|            8451.0|     1.0|     1.0|      1|      1|\n",
      "|            8415.0|            8408.0|     1.0|     1.0|      1|      1|\n",
      "|           11080.0|           11092.0|     1.0|     1.0|      1|      1|\n",
      "|           11080.0|           11131.0|     1.0|     1.0|      1|      1|\n",
      "|            7519.0|            7535.0|     1.0|     1.0|      1|      1|\n",
      "|            7519.0|            7526.0|     1.0|     1.0|      1|      1|\n",
      "|            7519.0|            7543.0|     1.0|     1.0|      1|      1|\n",
      "|            7519.0|            7551.0|     1.0|     1.0|      1|      1|\n",
      "|           11635.0|           11629.0|     1.0|     1.0|      1|      1|\n",
      "|           26863.0|           26899.0|   99.99|   99.99|      1|      1|\n",
      "|           26863.0|           26833.0|   99.99|   99.99|      1|      1|\n",
      "|           27187.0|           27163.0|   99.99|   99.99|      1|      1|\n",
      "|           27187.0|           27219.0|   99.99|   99.99|      1|      1|\n",
      "|           26556.0|           26585.0|   99.99|   99.99|      1|      1|\n",
      "|           26556.0|           26523.0|   99.99|   99.99|      1|      1|\n",
      "|           17220.0|           17187.0|    3.79|    3.79|      1|      1|\n",
      "|            7551.0|            7535.0|     1.0|     1.0|      1|      1|\n",
      "|            7551.0|            7610.0|     1.0|     1.0|      1|      1|\n",
      "+------------------+------------------+--------+--------+-------+-------+\n",
      "only showing top 20 rows\n",
      "\n"
     ]
    }
   ],
   "source": [
    "# SQL query for self join to find similar transactions within a minute\n",
    "self_join_query = \"\"\"\n",
    "SELECT \n",
    "    a.Time AS transaction_time_a,\n",
    "    b.Time AS transaction_time_b,\n",
    "    a.Amount AS amount_a,\n",
    "    b.Amount AS amount_b,\n",
    "    a.Class AS class_a,\n",
    "    b.Class AS class_b\n",
    "FROM \n",
    "    creditcard_data a\n",
    "JOIN \n",
    "    creditcard_data b\n",
    "ON \n",
    "    a.Time <> b.Time  -- Ensure we don't join the same row\n",
    "    AND ABS(a.Time - b.Time) <= 60  -- Transactions occurring within 60 seconds\n",
    "    AND a.Amount = b.Amount  -- Same transaction amount\n",
    "\"\"\"\n",
    "\n",
    "# Execute the self join query\n",
    "self_join_results = spark.sql(self_join_query)\n",
    "\n",
    "# Show the results of the self join\n",
    "self_join_results.show()\n"
   ]
  },
  {
   "cell_type": "markdown",
   "id": "7b3ef995-d151-4700-a47c-30885044e50e",
   "metadata": {},
   "source": [
    "- **Conditions for Joining:**\n",
    "\n",
    "- **Different Rows:** The condition a.Time <> b.Time ensures that the same transaction is not joined with itself.\n",
    "- **Time Difference:** The condition ABS(a.Time - b.Time) <= 60 filters transactions to include only those that occurred within 60 seconds of each other. This helps identify closely-timed transactions that may indicate suspicious activity.\n",
    "- **Same Amount:** The condition a.Amount = b.Amount ensures that only transactions with the same amount are considered. This is significant because fraudulent transactions often mimic legitimate ones.\n"
   ]
  },
  {
   "cell_type": "markdown",
   "id": "eca6d79e-faa8-4e0e-8fc4-80448d973edd",
   "metadata": {},
   "source": [
    "# INSIGHTS:\n",
    "**1. Frequent Fraud Patterns:**\n",
    "\n",
    "The dataset reveals multiple instances of fraudulent transactions occurring at nearly the same time with identical amounts. For example, several transactions for $1.00 and $99.99 were made within the same minute. This suggests that fraudsters may be attempting to conduct multiple similar transactions in quick succession.\n",
    "\n",
    "**2. Potential Fraud Attempts:**\n",
    "\n",
    "The presence of multiple identical amounts (i.e. 1.00 and $99.99) in close temporal proximity indicates a potential strategy used by fraudsters to test stolen card details. They may start with small amounts to avoid detection before proceeding to higher-value transactions.\n",
    "\n",
    "**3. Transaction Clustering:**\n",
    "\n",
    "The clustering of fraudulent transactions at specific times could indicate a coordinated effort, perhaps using automated scripts or bots to execute transactions rapidly. This behavior can help identify patterns in fraudulent activity that can be monitored in real-time by fraud detection systems.\n",
    "\n",
    "**4. Transaction Amounts:**\n",
    "\n",
    "The repetition of specific amounts, such as $99.99, can point to a pattern that may be of interest to investigators. It suggests that fraudsters are not only mimicking legitimate transactions but also favoring certain amounts that may help evade detection thresholds."
   ]
  },
  {
   "cell_type": "markdown",
   "id": "415a1ef7-c63e-4772-88ba-b7eb8a56005d",
   "metadata": {},
   "source": [
    "**Step 5: Time-based analysis**"
   ]
  },
  {
   "cell_type": "code",
   "execution_count": 45,
   "id": "fc409af1-3620-4301-b99f-7486987c6f8f",
   "metadata": {},
   "outputs": [],
   "source": [
    "from pyspark.sql import SparkSession\n",
    "from pyspark.sql.functions import to_timestamp\n"
   ]
  },
  {
   "cell_type": "code",
   "execution_count": 47,
   "id": "46689d01-7ee6-4142-9afc-0f09bb6eba9e",
   "metadata": {},
   "outputs": [
    {
     "name": "stdout",
     "output_type": "stream",
     "text": [
      "+------+------------------+-------------------+------------------+------+--------------------+-------------------+\n",
      "|  Time|                V1|                 V2|                V3|Amount|        ScaledAmount|   timestamp_column|\n",
      "+------+------------------+-------------------+------------------+------+--------------------+-------------------+\n",
      "|  26.0|-0.529912284186556|  0.873891581460326|  1.34724732930113|  6.14|[0.02452082189450...|1969-12-31 19:00:26|\n",
      "| 158.0|-0.600816388115364|  0.922454525911535|-0.135951820418704|  1.79|[0.00714857836989...|1969-12-31 19:02:38|\n",
      "| 190.0|  -1.5057791635308| -0.215325117259078|  1.99129427646285| 82.29|[0.3286349240551719]|1969-12-31 19:03:10|\n",
      "| 265.0|-0.491003017302294|  0.906952627077483|  1.64542281975857|  9.03|[0.03606238138556...|1969-12-31 19:04:25|\n",
      "| 459.0|-0.528217504778877|  0.981231846386665|   1.6529880537617|  6.99|[0.02791539821540...|1969-12-31 19:07:39|\n",
      "| 775.0| -3.90081029867848|  -3.09837020429443| -0.21342836428919|1528.9| [6.105844396499603]|1969-12-31 19:12:55|\n",
      "| 926.0| -1.53695801321944|-0.0414224787415122|  0.62984626092522|   1.0|[0.00399361920105...|1969-12-31 19:15:26|\n",
      "| 943.0| -1.21250203984735| -0.058850913337692|  1.82343455295237| 48.94|[0.1954477236998434]|1969-12-31 19:15:43|\n",
      "|1261.0| -0.88352858430582|    1.1739736253672| 0.967297814724589| 34.15|[0.13638209571617...|1969-12-31 19:21:01|\n",
      "|1293.0|  -1.4343476082208| 0.0124699766273357|  3.32738623176906|   8.0|[0.03194895360847...|1969-12-31 19:21:33|\n",
      "|1490.0|-0.798976008409009|  0.761253597330344|-0.045668850555913|   5.0|[0.01996809600529...|1969-12-31 19:24:50|\n",
      "|1579.0|-0.651215400952842|  0.732782458657685|  1.60190297759665|  22.3|[0.08905770818362...|1969-12-31 19:26:19|\n",
      "|1844.0|  1.11534818942834| -0.562788113252683|0.0928703819803681|  39.9|[0.15934540612226...|1969-12-31 19:30:44|\n",
      "|2045.0| -2.25174102280508|   1.15265846265605|  1.49889825420501|  20.0|[0.07987238402118...|1969-12-31 19:34:05|\n",
      "|2095.0|-0.444487191012571|  0.576851659353469|  1.08330663192392|   1.0|[0.00399361920105...|1969-12-31 19:34:55|\n",
      "|2106.0| -1.31916869733851|  -0.56856120725852|  2.22335799041384|  24.9|[0.09944111810637...|1969-12-31 19:35:06|\n",
      "|3299.0|  1.04406759129688| -0.223858998605856|  1.18327288781259|   1.0|[0.00399361920105...|1969-12-31 19:54:59|\n",
      "|3716.0| 0.896593921255381| -0.287341186204028|  1.25271487819064|  46.8|[0.18690137860957...|1969-12-31 20:01:56|\n",
      "|1993.0|  1.00957555058854| 0.0729062886119003|  1.71482479436852| 12.14|[0.04848253710086...|1969-12-31 19:33:13|\n",
      "|3736.0|  1.40127624693718| -0.683958381605842|-0.915142748448352|  42.0|[0.16773200644449...|1969-12-31 20:02:16|\n",
      "+------+------------------+-------------------+------------------+------+--------------------+-------------------+\n",
      "only showing top 20 rows\n",
      "\n"
     ]
    }
   ],
   "source": [
    "# Convert 'Time' to a timestamp\n",
    "data_with_timestamp = data.withColumn(\"timestamp_column\", to_timestamp(\"Time\"))\n",
    "\n",
    "# Show the updated DataFrame with the new timestamp column\n",
    "data_with_timestamp.select(\"Time\",\"V1\",\"V2\",\"V3\",\"Amount\",\"ScaledAmount\",\"timestamp_column\").show(truncate=20)"
   ]
  },
  {
   "cell_type": "code",
   "execution_count": 49,
   "id": "f7e587ed-e55b-46a2-a893-1ecf7b9c0c8f",
   "metadata": {},
   "outputs": [
    {
     "name": "stdout",
     "output_type": "stream",
     "text": [
      "root\n",
      " |-- Time: double (nullable = true)\n",
      " |-- V1: double (nullable = true)\n",
      " |-- V2: double (nullable = true)\n",
      " |-- V3: double (nullable = true)\n",
      " |-- V4: double (nullable = true)\n",
      " |-- V5: double (nullable = true)\n",
      " |-- V6: double (nullable = true)\n",
      " |-- V7: double (nullable = true)\n",
      " |-- V8: double (nullable = true)\n",
      " |-- V9: double (nullable = true)\n",
      " |-- V10: double (nullable = true)\n",
      " |-- V11: double (nullable = true)\n",
      " |-- V12: double (nullable = true)\n",
      " |-- V13: double (nullable = true)\n",
      " |-- V14: double (nullable = true)\n",
      " |-- V15: double (nullable = true)\n",
      " |-- V16: double (nullable = true)\n",
      " |-- V17: double (nullable = true)\n",
      " |-- V18: double (nullable = true)\n",
      " |-- V19: double (nullable = true)\n",
      " |-- V20: double (nullable = true)\n",
      " |-- V21: double (nullable = true)\n",
      " |-- V22: double (nullable = true)\n",
      " |-- V23: double (nullable = true)\n",
      " |-- V24: double (nullable = true)\n",
      " |-- V25: double (nullable = true)\n",
      " |-- V26: double (nullable = true)\n",
      " |-- V27: double (nullable = true)\n",
      " |-- V28: double (nullable = true)\n",
      " |-- Amount: double (nullable = true)\n",
      " |-- Class: integer (nullable = true)\n",
      " |-- ScaledAmount: vector (nullable = true)\n",
      " |-- timestamp_column: timestamp (nullable = true)\n",
      "\n"
     ]
    }
   ],
   "source": [
    "data_with_timestamp.printSchema()\n"
   ]
  },
  {
   "cell_type": "markdown",
   "id": "85a6582e-0cb1-4a1b-becd-e3c6c1898ca0",
   "metadata": {},
   "source": [
    "**\"Time\" column is converted to timestamp for our SQL query**"
   ]
  },
  {
   "cell_type": "code",
   "execution_count": 51,
   "id": "d9833a9b-f799-46ec-8bbc-9166172438aa",
   "metadata": {},
   "outputs": [],
   "source": [
    "# Register as a temporary view\n",
    "data_with_timestamp.createOrReplaceTempView(\"creditcard_data\")"
   ]
  },
  {
   "cell_type": "code",
   "execution_count": 53,
   "id": "1efe51a0-be09-4160-9727-db99f7f283dc",
   "metadata": {},
   "outputs": [],
   "source": [
    "from datetime import datetime\n",
    "from pyspark.sql import SparkSession\n",
    "from pyspark.sql.functions import expr"
   ]
  },
  {
   "cell_type": "code",
   "execution_count": 55,
   "id": "33ddc39b-06ec-45db-a1fa-5ed1c5f86f69",
   "metadata": {},
   "outputs": [
    {
     "name": "stdout",
     "output_type": "stream",
     "text": [
      "+----------------+------------------+-----------+---------------+\n",
      "|transaction_date|total_transactions|total_fraud|total_non_fraud|\n",
      "+----------------+------------------+-----------+---------------+\n",
      "|      1969-12-31|             10617|         44|          10573|\n",
      "|      1970-01-01|            143856|        288|         143568|\n",
      "|      1970-01-02|            129253|        141|         129112|\n",
      "+----------------+------------------+-----------+---------------+\n",
      "\n"
     ]
    }
   ],
   "source": [
    "# SQL query for time-based analysis\n",
    "time_analysis_query = \"\"\"\n",
    "SELECT \n",
    "    DATE(timestamp_column) AS transaction_date,  \n",
    "    COUNT(*) AS total_transactions, \n",
    "    SUM(CASE WHEN Class = 1 THEN 1 ELSE 0 END) AS total_fraud,\n",
    "    SUM(CASE WHEN Class = 0 THEN 1 ELSE 0 END) AS total_non_fraud\n",
    "FROM \n",
    "    creditcard_data\n",
    "GROUP BY \n",
    "    transaction_date\n",
    "ORDER BY \n",
    "    transaction_date\n",
    "\"\"\"\n",
    "# Execute the time-based analysis query\n",
    "time_analysis_results = spark.sql(time_analysis_query)\n",
    "\n",
    "# Show the results of the time-based analysis\n",
    "time_analysis_results.show()"
   ]
  },
  {
   "cell_type": "markdown",
   "id": "2dabb205-36d5-49dd-aaef-6f69e13705f8",
   "metadata": {},
   "source": [
    "# INSIGHT:\n",
    "**It can be seen that for**\n",
    "- **December 31, 1969,the fraud rate is ~ 0.41%**\n",
    "- **January 1, 1970, the fraud rate is ~0.20%**\n",
    "- **January 2, 1970, the fraud rate is ~ 0.11%**\n",
    "\n",
    "**This shows that the fraud rate is very low across all days, which indicates that the majority of transactions are legitimate.**"
   ]
  },
  {
   "cell_type": "code",
   "execution_count": 57,
   "id": "822ea0a3-6e27-41d5-a89d-dc5cb00dcecd",
   "metadata": {},
   "outputs": [],
   "source": [
    "# Drop the timestamp column\n",
    "balanced_df = balanced_df.drop(\"timestamp_column\")\n"
   ]
  },
  {
   "cell_type": "markdown",
   "id": "948ae303-7782-4484-a28d-b9cd60b25c1e",
   "metadata": {},
   "source": [
    "# 4.  Machine Learning Model"
   ]
  },
  {
   "cell_type": "markdown",
   "id": "381c1d40-ca13-4f19-9de2-8fd99ce8d21c",
   "metadata": {},
   "source": [
    "# Using Logistic Regression"
   ]
  },
  {
   "cell_type": "code",
   "execution_count": 99,
   "id": "003ccf09-5188-4aca-84f7-36575615513c",
   "metadata": {},
   "outputs": [],
   "source": [
    "# Step 1: Import Necessary Libraries\n",
    "from pyspark.sql import SparkSession\n",
    "from pyspark.ml import Pipeline\n",
    "from pyspark.ml.classification import LogisticRegression\n",
    "from pyspark.ml.feature import VectorAssembler\n",
    "from pyspark.ml.evaluation import MulticlassClassificationEvaluator, BinaryClassificationEvaluator\n",
    "from pyspark.ml.tuning import ParamGridBuilder, CrossValidator\n",
    "from pyspark.ml.tuning import CrossValidatorModel\n",
    "import numpy as np\n",
    "\n",
    "\n",
    "\n"
   ]
  },
  {
   "cell_type": "code",
   "execution_count": 71,
   "id": "95dc8fb1-3bfa-41a8-9dbd-780c4b53a7d3",
   "metadata": {},
   "outputs": [],
   "source": [
    "# Assuming balanced_Df is your DataFrame containing the data\n",
    "feature_columns = ['V' + str(i) for i in range(1, 29)] + ['Amount']\n",
    "assembler = VectorAssembler(inputCols=feature_columns, outputCol='features')\n"
   ]
  },
  {
   "cell_type": "code",
   "execution_count": 73,
   "id": "6f63cb6e-c6c9-4a62-8726-ac568af2b7dc",
   "metadata": {},
   "outputs": [],
   "source": [
    "# Define the Logistic Regression Model: Create an instance of LogisticRegression.\n",
    "lr = LogisticRegression(labelCol='Class', featuresCol='features')\n"
   ]
  },
  {
   "cell_type": "code",
   "execution_count": 75,
   "id": "1899cfd3-7c46-492b-a963-837672cd6598",
   "metadata": {},
   "outputs": [],
   "source": [
    "# Create a Pipeline: Create a pipeline to streamline the model training process.\n",
    "pipeline = Pipeline(stages=[assembler, lr])\n"
   ]
  },
  {
   "cell_type": "code",
   "execution_count": 77,
   "id": "6eb89e7b-86e4-485a-8f31-9ce114ad8943",
   "metadata": {},
   "outputs": [
    {
     "name": "stdout",
     "output_type": "stream",
     "text": [
      "Training Data Count: 754\n",
      "Testing Data Count: 184\n"
     ]
    }
   ],
   "source": [
    "# Split the Data: Split your dataset into training and test sets.\n",
    "train_data, test_data = balanced_df.randomSplit([0.8, 0.2], seed=42)\n",
    "print(f\"Training Data Count: {train_data.count()}\")\n",
    "print(f\"Testing Data Count: {test_data.count()}\")"
   ]
  },
  {
   "cell_type": "code",
   "execution_count": 79,
   "id": "8497c759-4a7d-40cc-985d-d63b850f4084",
   "metadata": {},
   "outputs": [],
   "source": [
    "# Fit the Model: Fit the pipeline model to the training data.\n",
    "pipeline_model = pipeline.fit(train_data)\n"
   ]
  },
  {
   "cell_type": "code",
   "execution_count": 81,
   "id": "f46bd2b9-02dd-43fe-85a2-5c5a3c8958cc",
   "metadata": {},
   "outputs": [],
   "source": [
    "# Make Predictions: Use the fitted model to make predictions on the test data\n",
    "predictions = pipeline_model.transform(test_data)\n"
   ]
  },
  {
   "cell_type": "code",
   "execution_count": 91,
   "id": "9df071fc-df20-4ecf-aaab-95525fe7377b",
   "metadata": {},
   "outputs": [
    {
     "name": "stdout",
     "output_type": "stream",
     "text": [
      "+--------------------+-----+--------------------+--------------------+----------+\n",
      "|            features|Class|       rawPrediction|         probability|prediction|\n",
      "+--------------------+-----+--------------------+--------------------+----------+\n",
      "|[-0.2514709600682...|    1|[-88.372551572783...|[4.17146400271539...|       1.0|\n",
      "|[-0.4693267051029...|    1|[1.49722003778124...|[0.81715948858933...|       0.0|\n",
      "|[-12.339603157412...|    1|[-150.80177710444...|[3.21825418246989...|       1.0|\n",
      "|[-29.200328590574...|    1|[-44.013154022229...|[7.67944929072589...|       1.0|\n",
      "|[-4.8443715221398...|    1|[-104.21540814572...|[5.4931734587053E...|       1.0|\n",
      "|[-3.8430090343853...|    1|[-56.543136480303...|[2.77733224966634...|       1.0|\n",
      "|[-6.1596069303632...|    1|[-113.72425754057...|[4.07551495944983...|       1.0|\n",
      "|[-6.1339869480198...|    1|[-89.795605588010...|[1.00522665028588...|       1.0|\n",
      "|[-10.632374906159...|    1|[-170.13116100835...|[1.29710631668373...|       1.0|\n",
      "|[-12.833631421951...|    1|[-159.70103523763...|[4.39259984646969...|       1.0|\n",
      "|[-10.300819757844...|    1|[-169.17065130744...|[3.38937512032382...|       1.0|\n",
      "|[-3.5521728203434...|    1|[-57.959413631998...|[6.73824015240707...|       1.0|\n",
      "|[-2.8771764260771...|    1|[-105.36461139655...|[1.74072706808815...|       1.0|\n",
      "|[1.52207986461923...|    1|[-1.1952225826300...|[0.23232618253923...|       1.0|\n",
      "|[1.14625926661879...|    1|[-42.845150230809...|[2.46937859021122...|       1.0|\n",
      "|[0.31645900044498...|    1|[-57.066845784278...|[1.64506770359773...|       1.0|\n",
      "|[1.18978435670385...|    1|[-0.5843406896621...|[0.35793441381349...|       1.0|\n",
      "|[-16.367923010796...|    1|[-138.66902746069...|[5.98145118706383...|       1.0|\n",
      "|[-6.4980861688078...|    1|[-178.47465580045...|[3.08632620479462...|       1.0|\n",
      "|[-13.680760322128...|    1|[-156.29463788840...|[1.32465021405301...|       1.0|\n",
      "+--------------------+-----+--------------------+--------------------+----------+\n",
      "only showing top 20 rows\n",
      "\n"
     ]
    }
   ],
   "source": [
    "predictions.select(\"features\",\"Class\",\"rawPrediction\",\"probability\",\"prediction\").show()"
   ]
  },
  {
   "cell_type": "markdown",
   "id": "48190e06-8df7-486e-b24e-7eff2c0d975e",
   "metadata": {},
   "source": [
    "### MODEL EVALUATION BY USING LOGISTIC REGRESSION"
   ]
  },
  {
   "cell_type": "code",
   "execution_count": 133,
   "id": "8724968f-1288-4c99-9491-eaadf6bc420b",
   "metadata": {},
   "outputs": [
    {
     "name": "stdout",
     "output_type": "stream",
     "text": [
      "Accuracy: 0.95\n",
      "Precision: 0.95\n",
      "Recall: 0.95\n",
      "AUC: 0.95\n",
      "R² Score: 0.80\n"
     ]
    }
   ],
   "source": [
    "#  Evaluate the Model\n",
    "from pyspark.ml.evaluation import BinaryClassificationEvaluator, MulticlassClassificationEvaluator,RegressionEvaluator\n",
    "\n",
    "# Accuracy\n",
    "# Evaluate using MulticlassClassificationEvaluator for Accuracy\n",
    "evaluator_accuracy = MulticlassClassificationEvaluator(labelCol=\"Class\", predictionCol=\"prediction\", metricName=\"accuracy\")\n",
    "accuracy = evaluator_accuracy.evaluate(predictions)\n",
    "\n",
    "# Precision\n",
    "evaluator_precision = MulticlassClassificationEvaluator(labelCol=\"Class\", predictionCol=\"prediction\", metricName=\"weightedPrecision\")\n",
    "precision = evaluator_precision.evaluate(predictions)\n",
    "\n",
    "# Recall\n",
    "evaluator_recall = MulticlassClassificationEvaluator(labelCol=\"Class\", predictionCol=\"prediction\", metricName=\"weightedRecall\")\n",
    "recall = evaluator_recall.evaluate(predictions)\n",
    "\n",
    "# AUC (Area Under ROC)\n",
    "# Evaluate the Model using BinaryClassificationEvaluator\n",
    "binary_evaluator = BinaryClassificationEvaluator(labelCol=\"Class\", rawPredictionCol=\"prediction\", metricName=\"areaUnderROC\")\n",
    "auc = binary_evaluator.evaluate(predictions)\n",
    "\n",
    "# R² Score\n",
    "regression_evaluator = RegressionEvaluator(labelCol=\"Class\", predictionCol=\"prediction\", metricName=\"r2\")\n",
    "r2 = regression_evaluator.evaluate(predictions)\n",
    "\n",
    "# Print Evaluation Metrics\n",
    "print(f\"Accuracy: {accuracy:.2f}\")\n",
    "print(f\"Precision: {precision:.2f}\")\n",
    "print(f\"Recall: {recall:.2f}\")\n",
    "print(f\"AUC: {auc:.2f}\")\n",
    "print(f\"R² Score: {r2:.2f}\")"
   ]
  },
  {
   "cell_type": "markdown",
   "id": "3efd1c78-78c4-4a07-bd8b-1e620faf777a",
   "metadata": {},
   "source": [
    "### Insights from Metrics of Simple Logistic Regression\n",
    "**1. Accuracy (0.95):**\n",
    "\n",
    "An accuracy of 95% indicates that the model correctly identifies the majority of transactions, both fraudulent and non-fraudulent. This high level suggests the model is generally effective in distinguishing between the two classes.\n",
    "\n",
    "**2. Precision (0.95):**\n",
    "Precision measures the proportion of true positive predictions (fraudulent transactions) among all predicted positives. A precision of 95% implies that when the model predicts a transaction as fraudulent, it is highly likely to be correct. This is crucial in fraud detection as it minimizes the risk of falsely accusing legitimate transactions.\n",
    "\n",
    "**3. Recall (0.95):**\n",
    "\n",
    "Recall reflects the model's ability to identify all actual fraudulent transactions. A recall of 95% means the model successfully detects 95% of actual fraud cases. This is vital for fraud detection, as missing a fraudulent transaction can lead to significant financial losses.\n",
    "\n",
    "**4. AUC (0.95):**\n",
    "\n",
    "The AUC (Area Under the ROC Curve) value of 0.95 indicates excellent discriminatory power. It shows that the model is highly effective in distinguishing between fraudulent and non-fraudulent transactions across different thresholds, providing confidence in its predictions.\n",
    "\n",
    "**5. R² Score (0.80):**\n",
    "\n",
    "The R² score of 0.80 suggests that the model explains that 80% of the variability in the target variable(fraud or non-fraud) is explained by the independent features. This indicates a strong relationship between the features used and the likelihood of fraud, contributing to the model's overall reliability."
   ]
  },
  {
   "cell_type": "markdown",
   "id": "93b484cc-5212-4aa5-b02d-d79ecdbc5867",
   "metadata": {},
   "source": [
    "# 5. Model Tuning and Evaluation by using Random Search CV"
   ]
  },
  {
   "cell_type": "code",
   "execution_count": 103,
   "id": "84dc1afb-5e91-4978-821a-5c0e4cd8f40a",
   "metadata": {},
   "outputs": [],
   "source": [
    "\n",
    "import random\n",
    "from pyspark.sql import SparkSession\n",
    "from pyspark.ml.feature import VectorAssembler\n",
    "from pyspark.ml.classification import LogisticRegression  # Import LogisticRegression\n",
    "from pyspark.ml.evaluation import MulticlassClassificationEvaluator,BinaryClassificationEvaluator,RegressionEvaluator\n",
    "from pyspark.ml.tuning import CrossValidator"
   ]
  },
  {
   "cell_type": "code",
   "execution_count": 105,
   "id": "c0d5eae8-6e56-46db-9ae7-1bb82b3118d1",
   "metadata": {},
   "outputs": [],
   "source": [
    "# Step 3: Sample a smaller subset of the data for faster analysis\n",
    "subset_fraction = 0.05  # Use a smaller fraction for quicker processing\n",
    "subset_data = balanced_df.sample(fraction=subset_fraction, seed=42)\n",
    "\n"
   ]
  },
  {
   "cell_type": "code",
   "execution_count": 107,
   "id": "52f5e335-f88a-4d11-a8c1-44e9b9949db1",
   "metadata": {},
   "outputs": [],
   "source": [
    "# Step 4: Define features and target variable\n",
    "feature_columns = [col for col in subset_data.columns if col != 'Class']\n",
    "assembler = VectorAssembler(inputCols=feature_columns, outputCol=\"features\")\n",
    "assembled_data = assembler.transform(subset_data)\n",
    "final_data = assembled_data.select(\"features\", \"Class\")\n",
    "\n"
   ]
  },
  {
   "cell_type": "code",
   "execution_count": 109,
   "id": "e95cb39a-5d9f-4ff2-b6f1-a79f1da8619e",
   "metadata": {},
   "outputs": [],
   "source": [
    "# Step 5: Define the model\n",
    "lr = LogisticRegression(labelCol=\"Class\", featuresCol=\"features\")\n",
    "\n"
   ]
  },
  {
   "cell_type": "code",
   "execution_count": 111,
   "id": "647f1fb2-8aab-4b33-baa5-e1090d60f6d5",
   "metadata": {},
   "outputs": [],
   "source": [
    "# Step 6: Create a random parameter grid for hyperparameter tuning\n",
    "# Define the number of random combinations you want to try\n",
    "num_random_combinations = 5  # Fewer combinations for faster analysis\n",
    "\n"
   ]
  },
  {
   "cell_type": "code",
   "execution_count": 113,
   "id": "418b6f6e-d88b-4575-abe5-354e431e4f55",
   "metadata": {},
   "outputs": [],
   "source": [
    "# Create lists of possible values for hyperparameters\n",
    "reg_param_options = [0.01, 0.1, 0.5, 1.0]\n",
    "max_iter_options = [10, 20, 50]\n",
    "\n",
    "# Generate random combinations of hyperparameters\n",
    "random_param_grid = []\n",
    "for _ in range(num_random_combinations):\n",
    "    reg_param = random.choice(reg_param_options)\n",
    "    max_iter = random.choice(max_iter_options)\n",
    "    random_param_grid.append({lr.regParam: reg_param, lr.maxIter: max_iter})\n",
    "\n",
    "# Create a CrossValidator with random parameter grid\n",
    "crossval = CrossValidator(estimator=lr,\n",
    "                          estimatorParamMaps=random_param_grid,\n",
    "                          evaluator=MulticlassClassificationEvaluator(labelCol=\"Class\", predictionCol=\"prediction\", metricName=\"accuracy\"),\n",
    "                          numFolds=3)  # Use fewer folds for quicker evaluation\n",
    "\n"
   ]
  },
  {
   "cell_type": "code",
   "execution_count": 115,
   "id": "e6c5df45-03c4-4326-a6ae-d05ed5048cbc",
   "metadata": {},
   "outputs": [],
   "source": [
    "# Run cross-validation\n",
    "cv_model = crossval.fit(final_data)\n"
   ]
  },
  {
   "cell_type": "code",
   "execution_count": 117,
   "id": "97493d16-a741-4c2c-8375-b7a2e8ed2bb3",
   "metadata": {},
   "outputs": [
    {
     "name": "stdout",
     "output_type": "stream",
     "text": [
      "Best Hyperparameters found by Random Search CV:\n",
      "  - Regularization Parameter (regParam): 0.1\n",
      "  - Maximum Iterations (maxIter): 10\n"
     ]
    }
   ],
   "source": [
    "# Step 7: Evaluate the best model\n",
    "best_model = cv_model.bestModel\n",
    "best_reg_param = best_model.getRegParam()\n",
    "best_max_iter = best_model.getMaxIter()\n",
    "\n",
    "\n",
    "print(\"Best Hyperparameters found by Random Search CV:\")\n",
    "print(f\"  - Regularization Parameter (regParam): {best_reg_param}\")\n",
    "print(f\"  - Maximum Iterations (maxIter): {best_max_iter}\")"
   ]
  },
  {
   "cell_type": "markdown",
   "id": "db88751c-0260-4321-88a8-c80bca4f0c91",
   "metadata": {},
   "source": [
    "# Brief Insights on Best Hyperparameters with Respect to Fraud and Non-Fraud Transactions\n",
    "**Regularization Parameter (regParam = 0.1):**\n",
    "\n",
    "A moderate regularization value of 0.1 indicates the model is effectively balancing complexity and generalization, crucial for fraud detection. It helps prevent overfitting, ensuring the model captures significant patterns in fraudulent transactions while minimizing false positives in legitimate (non-fraud) transactions.\n",
    "\n",
    "**Maximum Iterations (maxIter = 10):**\n",
    "\n",
    "The model's convergence in just 10 iterations suggests that the data is well-structured and the features are informative, allowing the model to quickly learn to distinguish between fraud and non-fraud cases. However, this low iteration count may indicate potential limitations in fully exploring complex patterns, which could be important for improving detection rates.\n",
    "\n",
    "**Overall Implications:**\n",
    "\n",
    "The selected hyperparameters reflect a model capable of identifying fraudulent transactions while maintaining a low false positive rate for non-fraud transactions. However, further tuning or adjustments may enhance performance, especially in ensuring robust detection amidst the challenges of imbalanced classes inherent in fraud detection.\n",
    "\n",
    "\n",
    "\n",
    "\n",
    "\n"
   ]
  },
  {
   "cell_type": "code",
   "execution_count": 127,
   "id": "069244c1-d04f-4cf7-b6fb-aedf3e34ca68",
   "metadata": {},
   "outputs": [],
   "source": [
    "# Make predictions using the best model\n",
    "cv_predictions = cv_model.transform(final_data)\n"
   ]
  },
  {
   "cell_type": "code",
   "execution_count": 129,
   "id": "50e0bbee-7b8d-4fa2-8143-72396fda0024",
   "metadata": {},
   "outputs": [
    {
     "name": "stdout",
     "output_type": "stream",
     "text": [
      "+--------------------+-----+--------------------+--------------------+----------+\n",
      "|            features|Class|       rawPrediction|         probability|prediction|\n",
      "+--------------------+-----+--------------------+--------------------+----------+\n",
      "|[7519.0,1.2342350...|    1|[-1.6993653385839...|[0.15454817369072...|       1.0|\n",
      "|[52814.0,-1.10184...|    1|[0.20962191903594...|[0.55221442195946...|       0.0|\n",
      "|[62467.0,-5.34466...|    1|[-4.7827106565677...|[0.00830374163537...|       1.0|\n",
      "|[134766.0,-0.0796...|    1|[-1.6665288632486...|[0.15888752037769...|       1.0|\n",
      "|[154493.0,-7.3815...|    1|[-2.6269229215390...|[0.06742567825698...|       1.0|\n",
      "|[34521.0,1.081233...|    1|[0.78886356535579...|[0.68758726395612...|       0.0|\n",
      "|[102114.0,-28.255...|    1|[-9.0801231293323...|[1.13894607769569...|       1.0|\n",
      "|[142394.0,-3.3677...|    1|[-3.8830903689166...|[0.02017182553281...|       1.0|\n",
      "|[169347.0,1.37855...|    1|[-1.1990675722143...|[0.23164113175019...|       1.0|\n",
      "|[41646.0,-3.24018...|    1|[-2.7548590550194...|[0.05981281487301...|       1.0|\n",
      "|[472.0,-3.0435406...|    1|[-0.4499450411298...|[0.38937383309404...|       1.0|\n",
      "|[8757.0,-1.863755...|    1|[-3.4466447419173...|[0.03086907801157...|       1.0|\n",
      "|[53658.0,-1.73934...|    1|[-1.6573871268141...|[0.16011305597031...|       1.0|\n",
      "|[142840.0,-3.6138...|    1|[-2.0699181765852...|[0.11205517963148...|       1.0|\n",
      "|[154657.0,-0.6795...|    1|[-3.9408480924431...|[0.01906133321407...|       1.0|\n",
      "|[156685.0,-0.1297...|    1|[0.63120260675730...|[0.65276209959332...|       0.0|\n",
      "|[160791.0,2.13238...|    1|[0.18209964738809...|[0.54539952603884...|       0.0|\n",
      "|[28726.0,-29.8763...|    1|[-4.7521240032154...|[0.00855944191722...|       1.0|\n",
      "|[75851.0,-4.79366...|    1|[-3.5046892547538...|[0.02917910135766...|       1.0|\n",
      "|[84204.0,-1.92745...|    1|[-6.3851062829374...|[0.00168364978380...|       1.0|\n",
      "+--------------------+-----+--------------------+--------------------+----------+\n",
      "only showing top 20 rows\n",
      "\n"
     ]
    }
   ],
   "source": [
    "# Display the predictions DataFrame\n",
    "cv_predictions.show()\n"
   ]
  },
  {
   "cell_type": "markdown",
   "id": "aa93da7c-1269-4d85-9dd4-22ec5647be90",
   "metadata": {},
   "source": [
    "### Model Evaluation afyter Hyperparameter Tuning\n",
    "After hyperparameter tuning, evaluate the best model on the test data.\n",
    "\n"
   ]
  },
  {
   "cell_type": "code",
   "execution_count": 131,
   "id": "b2915e28-0105-436a-a5de-1f72355de600",
   "metadata": {},
   "outputs": [
    {
     "name": "stdout",
     "output_type": "stream",
     "text": [
      "Accuracy: 0.91\n",
      "Precision: 0.92\n",
      "Recall: 0.91\n",
      "AUC: 0.91\n",
      "R² Score: 0.63\n"
     ]
    }
   ],
   "source": [
    "\n",
    "#  Evaluate the Model\n",
    "# Accuracy\n",
    "evaluator_accuracy = MulticlassClassificationEvaluator(labelCol=\"Class\", predictionCol=\"prediction\", metricName=\"accuracy\")\n",
    "accuracy = evaluator_accuracy.evaluate(cv_predictions)\n",
    "\n",
    "# Precision\n",
    "evaluator_precision = MulticlassClassificationEvaluator(labelCol=\"Class\", predictionCol=\"prediction\", metricName=\"weightedPrecision\")\n",
    "precision = evaluator_precision.evaluate(cv_predictions)\n",
    "\n",
    "# Recall\n",
    "evaluator_recall = MulticlassClassificationEvaluator(labelCol=\"Class\", predictionCol=\"prediction\", metricName=\"weightedRecall\")\n",
    "recall = evaluator_recall.evaluate(cv_predictions)\n",
    "\n",
    "# AUC (Area Under ROC)\n",
    "binary_evaluator = BinaryClassificationEvaluator(labelCol=\"Class\", rawPredictionCol=\"prediction\", metricName=\"areaUnderROC\")\n",
    "auc = binary_evaluator.evaluate(cv_predictions)\n",
    "\n",
    "# R² Score\n",
    "regression_evaluator = RegressionEvaluator(labelCol=\"Class\", predictionCol=\"prediction\", metricName=\"r2\")\n",
    "r2 = regression_evaluator.evaluate(cv_predictions)\n",
    "\n",
    "# Print Evaluation Metrics\n",
    "print(f\"Accuracy: {accuracy:.2f}\")\n",
    "print(f\"Precision: {precision:.2f}\")\n",
    "print(f\"Recall: {recall:.2f}\")\n",
    "print(f\"AUC: {auc:.2f}\")\n",
    "print(f\"R² Score: {r2:.2f}\")"
   ]
  },
  {
   "cell_type": "markdown",
   "id": "2fd41cd9-0c73-4ca8-801a-8db5b73e58e7",
   "metadata": {},
   "source": [
    "# INSIGHTS & PERFORMANCE COMPARISON:\n",
    "**1. Performance Drop After Tuning:**\n",
    "\n",
    "The model's performance metrics dropped after hyperparameter tuning, indicating that the initial high performance may have resulted from overfitting to the training data. This overfitting could lead to poorer identification of fraudulent transactions when encountering new, unseen data.\n",
    "\n",
    "**2. Accuracy Analysis:**\n",
    "\n",
    "Accuracy decreased from 95% to 91%, reflecting a more realistic assessment of the model's ability to generalize. While still strong, this reduction highlights the model's improved robustness in distinguishing between fraudulent and non-fraudulent transactions.\n",
    "\n",
    "**3. Precision and Recall:**\n",
    "\n",
    "Precision fell from 95% to 92%, and recall dropped from 95% to 91%. This indicates a slight increase in the model's errors regarding correctly identifying fraudulent transactions (precision) and capturing all actual fraud cases (recall). Despite this decrease, the model remains effective at identifying fraud relative to legitimate transactions.\n",
    "\n",
    "**4. AUC Interpretation:**\n",
    "\n",
    "The AUC decreased from 0.95 to 0.91, suggesting a slight reduction in the model's capability to distinguish between fraudulent and non-fraudulent transactions. However, the model still demonstrates good performance overall.\n",
    "\n",
    "**5. R² Score:**\n",
    "\n",
    "The R² score dropped from 0.80 to 0.63, indicating that the model accounts for less variability in predicting fraudulent transactions compared to non-fraudulent ones. This could suggest potential issues in capturing the underlying patterns associated with fraud after tuning."
   ]
  },
  {
   "cell_type": "markdown",
   "id": "a7c71286-396a-4435-9e89-2dde28d7cb7c",
   "metadata": {},
   "source": [
    "# CONCLUSION:\n",
    "- **Model Generalization:** The drop in performance metrics after hyperparameter tuning indicates that the tuned model is more generalized, reducing the risk of overfitting. This is crucial for fraud detection, as a well-generalized model can more effectively identify fraudulent transactions in diverse, unseen datasets.\n",
    "\n",
    "- **Model Evaluation:** Although the tuned model shows slightly lower performance metrics, it is better equipped to accurately classify fraud in real-world scenarios. This trade-off enhances the model's reliability, prioritizing generalization to reduce false negatives and improve overall fraud detection effectiveness."
   ]
  }
 ],
 "metadata": {
  "kernelspec": {
   "display_name": "Python 3 (ipykernel)",
   "language": "python",
   "name": "python3"
  },
  "language_info": {
   "codemirror_mode": {
    "name": "ipython",
    "version": 3
   },
   "file_extension": ".py",
   "mimetype": "text/x-python",
   "name": "python",
   "nbconvert_exporter": "python",
   "pygments_lexer": "ipython3",
   "version": "3.12.3"
  }
 },
 "nbformat": 4,
 "nbformat_minor": 5
}
